{
  "nbformat": 4,
  "nbformat_minor": 0,
  "metadata": {
    "colab": {
      "provenance": [],
      "include_colab_link": true
    },
    "kernelspec": {
      "name": "python3",
      "display_name": "Python 3"
    },
    "language_info": {
      "name": "python"
    }
  },
  "cells": [
    {
      "cell_type": "markdown",
      "metadata": {
        "id": "view-in-github",
        "colab_type": "text"
      },
      "source": [
        "<a href=\"https://colab.research.google.com/github/jufucu/Tarea2/blob/main/Tarea2_Ejemplo_CIVIL.ipynb\" target=\"_parent\"><img src=\"https://colab.research.google.com/assets/colab-badge.svg\" alt=\"Open In Colab\"/></a>"
      ]
    },
    {
      "cell_type": "markdown",
      "source": [
        "# **Ecuación 1**\n",
        "\n",
        "Para el estudiante: justo.fuentes@unisucrevirtual,edu,co\n",
        "\n",
        "**Ecuación de Momento Flexionante en Vigas**:\n",
        "\n",
        "Esta ecuación es fundamental en ingeniería civil para calcular el momento flexionante o la flexión en vigas bajo cargas aplicadas. Ayuda en el diseño y análisis de estructuras como puentes y edificios.\n",
        "\n",
        "$$\n",
        "M = \\frac{F*L}{4}\n",
        "$$\n",
        "\n",
        "\n",
        "Donde:\n",
        "\n",
        "1. M es el momento flexionante.\n",
        "2. F es la fuerza aplicada.\n",
        "3. L es la longitud de la viga.\n",
        "\n"
      ],
      "metadata": {
        "id": "m9egRvlsFCTT"
      }
    },
    {
      "cell_type": "markdown",
      "source": [
        "\n",
        "\n",
        "Claro, la ecuación de momento flexionante en vigas es una herramienta fundamental en ingeniería civil y estructural para analizar y diseñar estructuras que están sometidas a cargas, como puentes, edificios y vigas en general. Esta ecuación se basa en la teoría de la flexión de vigas y se utiliza para determinar cómo una viga se deforma y se somete a esfuerzos cuando se le aplican fuerzas o cargas.\n",
        "\n",
        "La ecuación del momento flexionante en vigas se expresa como:\n",
        "\n",
        "$$\n",
        "M = \\frac{F*L}{4}\n",
        "$$\n",
        "\n",
        "Donde:\n",
        "- \\(M\\) es el momento flexionante (o momento flector) en la viga. Este momento mide la tendencia de la viga a flexionarse o doblarse bajo la acción de las fuerzas aplicadas.\n",
        "- \\(F\\) es la fuerza aplicada en la viga. Puede ser una carga concentrada o distribuida a lo largo de la viga.\n",
        "- \\(L\\) es la longitud de la viga entre los puntos de apoyo o \"apoyos\". Es la distancia a lo largo de la viga desde el punto donde se aplica la carga hasta el punto donde se encuentra el apoyo o la pared.\n",
        "\n",
        "Ahora, para comprender mejor esta ecuación, es importante conocer algunos conceptos clave:\n",
        "\n",
        "1. **Momento Flexionante (Momento Flector):** El momento flexionante es una medida de la tendencia de la viga a doblarse o flexionarse en un punto dado debido a las fuerzas aplicadas. En una viga, el momento flexionante varía a lo largo de su longitud, y su valor depende de la magnitud y la ubicación de las fuerzas aplicadas.\n",
        "\n",
        "2. **Apoyos:** Las vigas están apoyadas en puntos llamados \"apoyos\" que proporcionan resistencia a las fuerzas aplicadas y permiten que la viga se mantenga en equilibrio. Los tipos comunes de apoyos incluyen apoyos fijos, apoyos articulados y apoyos deslizantes.\n",
        "\n",
        "3. **Distribución de Cargas:** Las fuerzas aplicadas a la viga pueden ser concentradas en un punto específico o distribuidas a lo largo de su longitud. La distribución de cargas afectará cómo se distribuye el momento flexionante a lo largo de la viga.\n",
        "\n",
        "La ecuación \\(M = \\frac{F \\cdot L}{4}\\) es una simplificación que se aplica a vigas simples con una carga concentrada en el centro de la viga y apoyos en los extremos. Esta ecuación muestra que el momento flexionante es directamente proporcional a la fuerza aplicada y a la longitud de la viga. Cuanto mayor sea la fuerza o la longitud de la viga, mayor será el momento flexionante.\n",
        "\n",
        "Sin embargo, en situaciones más complejas con cargas distribuidas o múltiples fuerzas aplicadas, se requieren métodos de análisis más avanzados, como la integración de las ecuaciones de equilibrio o el uso de software de análisis estructural. La ecuación básica es una introducción a la teoría de la flexión de vigas y suele ser la base para comprender problemas más complejos de ingeniería estructural."
      ],
      "metadata": {
        "id": "s4mmPdYrHi47"
      }
    },
    {
      "cell_type": "code",
      "source": [
        "# lo hizo justo.fuentes@unisucre.edu.co\n",
        "F = float(input(\"Ingrese F\\n\"))\n",
        "L = float(input(\"Ingrese L\\n\"))\n",
        "\n",
        "M = F*L/4\n",
        "\n",
        "print(\"M = \", M)"
      ],
      "metadata": {
        "id": "eTN1plDuFJj_",
        "colab": {
          "base_uri": "https://localhost:8080/"
        },
        "outputId": "b96bbcea-7c8b-497d-c9fe-8d44a678df83"
      },
      "execution_count": null,
      "outputs": [
        {
          "output_type": "stream",
          "name": "stdout",
          "text": [
            "Ingrese F\n",
            "23\n",
            "Ingrese L\n",
            "33\n",
            "M =  189.75\n"
          ]
        }
      ]
    },
    {
      "cell_type": "markdown",
      "source": [
        "# Explicación por justorfc@gmail.com\n",
        "\n",
        "\n",
        "\n",
        "El código proporcionado es un script de Python que realiza un cálculo simple. A continuación, se proporciona una explicación detallada en formato markdown:\n",
        "\n",
        "```python\n",
        "# lo hizo justo.fuentes@unisucre.edu.co\n",
        "\n",
        "# Solicita al usuario que ingrese el valor de F (fuerza) y lo almacena como un número decimal en la variable F.\n",
        "F = float(input(\"Ingrese F\\n\"))\n",
        "\n",
        "# Solicita al usuario que ingrese el valor de L (longitud) y lo almacena como un número decimal en la variable L.\n",
        "L = float(input(\"Ingrese L\\n\"))\n",
        "\n",
        "# Calcula el momento (M) utilizando la fórmula M = F * L / 4 y almacena el resultado en la variable M.\n",
        "M = F * L / 4\n",
        "\n",
        "# Imprime el resultado del cálculo del momento en la consola.\n",
        "print(\"M = \", M)\n",
        "```\n",
        "\n",
        "Este código es una herramienta simple para calcular el momento (M) en base a la fuerza (F) y la longitud (L) proporcionadas por el usuario. Aquí está cómo funciona:\n",
        "\n",
        "1. El usuario ingresa un valor para la fuerza (F) cuando se le solicita y luego ingresa un valor para la longitud (L).\n",
        "\n",
        "2. Los valores ingresados por el usuario se almacenan en las variables F y L como números decimales.\n",
        "\n",
        "3. Luego, se calcula el momento (M) utilizando la fórmula M = F * L / 4, donde F es la fuerza ingresada y L es la longitud ingresada.\n",
        "\n",
        "4. El resultado del cálculo del momento se almacena en la variable M.\n",
        "\n",
        "5. Finalmente, el programa imprime el valor de M en la consola.\n",
        "\n",
        "Ejemplo de uso:\n",
        "Supongamos que un usuario ingresa los siguientes valores:\n",
        "```\n",
        "Ingrese F\n",
        "10\n",
        "Ingrese L\n",
        "5\n",
        "```\n",
        "El programa calculará el momento M de la siguiente manera:\n",
        "```\n",
        "M = 10 * 5 / 4 = 12.5\n",
        "```\n",
        "Y mostrará el resultado en la consola:\n",
        "```\n",
        "M = 12.5\n",
        "```\n",
        "\n",
        "Este código podría ser útil en situaciones donde se necesite calcular momentos en una estructura o sistema mecánico dado un valor de fuerza y longitud específicos."
      ],
      "metadata": {
        "id": "JgZ80Qj0KNYb"
      }
    },
    {
      "cell_type": "markdown",
      "source": [
        "# **Ecuación 2**\n",
        "\n"
      ],
      "metadata": {
        "id": "hPLDAqLLFC7H"
      }
    },
    {
      "cell_type": "code",
      "source": [],
      "metadata": {
        "id": "dpOuEUm6FOCQ"
      },
      "execution_count": null,
      "outputs": []
    },
    {
      "cell_type": "markdown",
      "source": [
        "# **Ecuación 3**"
      ],
      "metadata": {
        "id": "3jxFwGcpFDTH"
      }
    },
    {
      "cell_type": "code",
      "source": [],
      "metadata": {
        "id": "fNyFRyt3FRDK"
      },
      "execution_count": null,
      "outputs": []
    }
  ]
}