{
  "nbformat": 4,
  "nbformat_minor": 0,
  "metadata": {
    "colab": {
      "provenance": [],
      "toc_visible": true,
      "authorship_tag": "ABX9TyO4n02ts3uMglpNMrS877c2",
      "include_colab_link": true
    },
    "kernelspec": {
      "name": "python3",
      "display_name": "Python 3"
    }
  },
  "cells": [
    {
      "cell_type": "markdown",
      "metadata": {
        "id": "view-in-github",
        "colab_type": "text"
      },
      "source": [
        "<a href=\"https://colab.research.google.com/github/jufucu/Tarea2/blob/main/Sqlite3_Codigos_de_Ejemplo_programming_python_pag_1332.ipynb\" target=\"_parent\"><img src=\"https://colab.research.google.com/assets/colab-badge.svg\" alt=\"Open In Colab\"/></a>"
      ]
    },
    {
      "cell_type": "markdown",
      "metadata": {
        "id": "ryjX5QvTdlMf"
      },
      "source": [
        "# [Programming Python: Powerful Object-Oriented Programming Fourth Edición](http://index-of.es/Python/OReilly.Programming.Python.4.Edition.Dec.2010.pdf)\n",
        "\n",
        "**An SQL Database API Tutorial with SQLite**. PAGINA 1332"
      ]
    },
    {
      "cell_type": "markdown",
      "metadata": {
        "id": "h3Tf_KShefZU"
      },
      "source": []
    },
    {
      "cell_type": "code",
      "metadata": {
        "id": "bgftWw5RX_cK"
      },
      "source": [
        "import sqlite3\n",
        "import os\n",
        "import sys"
      ],
      "execution_count": null,
      "outputs": []
    },
    {
      "cell_type": "code",
      "metadata": {
        "id": "oNbF8I0L3lUA"
      },
      "source": [
        "# Se conecta a la base de datos, si no existe la crea\n",
        "conn = sqlite3.connect(\"dbase1.sqlite3\")"
      ],
      "execution_count": null,
      "outputs": []
    },
    {
      "cell_type": "code",
      "metadata": {
        "colab": {
          "base_uri": "https://localhost:8080/"
        },
        "id": "ZQgOJc6a4tdA",
        "outputId": "d24961b1-7b87-4276-a643-ea393ef667cb"
      },
      "source": [
        "\"\"\"\n",
        "Making databases and tables\n",
        "Next, let’s make a cursor for submitting SQL statements to the database server, and\n",
        "submit one to create a first table:\n",
        "\"\"\"\n",
        "curs = conn.cursor()\n",
        "sql = \"\"\"\n",
        "CREATE TABLE IF NOT EXISTS people (name char(30),\n",
        "                    job char(10),\n",
        "                    pay int(4))\n",
        "\"\"\"\n",
        "curs.execute(sql)"
      ],
      "execution_count": null,
      "outputs": [
        {
          "output_type": "execute_result",
          "data": {
            "text/plain": [
              "<sqlite3.Cursor at 0x7fc1a0629490>"
            ]
          },
          "metadata": {
            "tags": []
          },
          "execution_count": 3
        }
      ]
    },
    {
      "cell_type": "markdown",
      "metadata": {
        "id": "DmAYY7lw79rj"
      },
      "source": [
        "**Adding records**\n",
        "\n",
        "So far, we’ve logged in (which just means opening a local file in SQLite) and created a\n",
        "table. Next let’s start a new Python session and create some records. There are three\n",
        "basic statement-based approaches we can use here: inserting one row at a time or in\u0002serting multiple rows with a single call statement or a Python loop. Here is the simple case (I’m omitting some call return values here if they are irrelevant to the story):"
      ]
    },
    {
      "cell_type": "code",
      "metadata": {
        "id": "8WYE2NU86plf",
        "colab": {
          "base_uri": "https://localhost:8080/"
        },
        "outputId": "7d0174ba-5ad9-4dae-bfaa-186350eec73c"
      },
      "source": [
        "import sqlite3\n",
        "\n",
        "conn = sqlite3.connect(\"dbase1.sqlite3\")\n",
        "\n",
        "curs = conn.cursor()\n",
        "\n",
        "curs.execute('INSERT INTO people VALUES(?,?,?)', ('Bob', 'dev', 5000))"
      ],
      "execution_count": null,
      "outputs": [
        {
          "output_type": "execute_result",
          "data": {
            "text/plain": [
              "<sqlite3.Cursor at 0x7fc19e5ca960>"
            ]
          },
          "metadata": {
            "tags": []
          },
          "execution_count": 4
        }
      ]
    },
    {
      "cell_type": "code",
      "metadata": {
        "colab": {
          "base_uri": "https://localhost:8080/"
        },
        "id": "gXbT8Y0L9Ker",
        "outputId": "257857f7-d07e-4698-c17d-ce098d06722f"
      },
      "source": [
        "curs.rowcount"
      ],
      "execution_count": null,
      "outputs": [
        {
          "output_type": "execute_result",
          "data": {
            "text/plain": [
              "1"
            ]
          },
          "metadata": {
            "tags": []
          },
          "execution_count": 5
        }
      ]
    },
    {
      "cell_type": "code",
      "metadata": {
        "id": "-fXZvddY9Pot",
        "colab": {
          "base_uri": "https://localhost:8080/"
        },
        "outputId": "9af2347c-72da-442a-edc3-dc1b0f903b6e"
      },
      "source": [
        "curs.executemany('insert into people values (?, ?, ?)',\n",
        "                 [ ('Sue', 'mus', '70000'),\n",
        "                  ('Ann', 'mus', '60000')])"
      ],
      "execution_count": null,
      "outputs": [
        {
          "output_type": "execute_result",
          "data": {
            "text/plain": [
              "<sqlite3.Cursor at 0x7fc19e5ca960>"
            ]
          },
          "metadata": {
            "tags": []
          },
          "execution_count": 6
        }
      ]
    },
    {
      "cell_type": "code",
      "metadata": {
        "colab": {
          "base_uri": "https://localhost:8080/"
        },
        "id": "fAgSVYwUDgoU",
        "outputId": "94c15ff7-e334-410f-b7cd-c547e353ed4e"
      },
      "source": [
        "curs.rowcount"
      ],
      "execution_count": null,
      "outputs": [
        {
          "output_type": "execute_result",
          "data": {
            "text/plain": [
              "2"
            ]
          },
          "metadata": {
            "tags": []
          },
          "execution_count": 7
        }
      ]
    },
    {
      "cell_type": "code",
      "metadata": {
        "id": "7IMsYzrrDpT0"
      },
      "source": [
        "rows = [['Tom', 'mgr', 100000],\n",
        "        ['Kim', 'adm', 30000],\n",
        "        ['pat', 'dev', 90000]]\n",
        "\n",
        "for row in rows:\n",
        "  curs.execute('insert into people values (? , ?, ?)', row)"
      ],
      "execution_count": null,
      "outputs": []
    },
    {
      "cell_type": "code",
      "metadata": {
        "id": "7PL6ynILD4wO"
      },
      "source": [
        "conn.commit()"
      ],
      "execution_count": null,
      "outputs": []
    },
    {
      "cell_type": "markdown",
      "metadata": {
        "id": "0qFVCt-3EU-m"
      },
      "source": [
        "Blending Python and SQL like this starts to open up all sorts of interesting possibilities.\n",
        "\n",
        "Notice the last command; we always need to call the connection’s commit method to\n",
        "write our changes out to the database. Otherwise, when the connection is closed, our changes may be lost. In fact, until we call the commit method, none of our inserts may be visible from other database connections.\n",
        "\n",
        "Technically, the API suggests that a connection object should automatically call its rollback method to back out changes that have not yet been committed, when it is\n",
        "closed (which happens manually when its close method is called, or automatically\n",
        "when the connection object is about to be garbage collected). For database systems\n",
        "that don’t support transaction commit and rollback operations, these calls may do\n",
        "nothing. SQLite implements both the commit and rollback methods; the latter rolls\n",
        "back any changes made since the last commit ."
      ]
    },
    {
      "cell_type": "markdown",
      "metadata": {
        "id": "cNn6p7mNECdX"
      },
      "source": [
        "# Running queries\n",
        "OK, we’ve now added six records to our database table. Let’s run an SQL query to see how we did:"
      ]
    },
    {
      "cell_type": "code",
      "metadata": {
        "colab": {
          "base_uri": "https://localhost:8080/"
        },
        "id": "WCsWI5c6D7dq",
        "outputId": "e5f80676-cc8b-4c56-bc0f-3eeb32cd034c"
      },
      "source": [
        "curs.execute('select * from people')\n",
        "curs.fetchall()"
      ],
      "execution_count": null,
      "outputs": [
        {
          "output_type": "execute_result",
          "data": {
            "text/plain": [
              "[('Bob', 'dev', 5000),\n",
              " ('Sue', 'mus', 70000),\n",
              " ('Ann', 'mus', 60000),\n",
              " ('Tom', 'mgr', 100000),\n",
              " ('Kim', 'adm', 30000),\n",
              " ('pat', 'dev', 90000)]"
            ]
          },
          "metadata": {
            "tags": []
          },
          "execution_count": 10
        }
      ]
    },
    {
      "cell_type": "markdown",
      "metadata": {
        "id": "sOsSLrZAExJO"
      },
      "source": [
        "Run an SQL select statement with a cursor object to grab all rows and call the cursor’s fetchall to retrieve them. They come back to our script as a sequence of sequences. In this module, it’s a list of tuples—the outer list represents the result table, the nested tuples are that table’s rows, and the nested tuple’s contents are the column data. Because it’s all Python data, once we get the query result, we process it with normal Python code. For example, to make the display a bit more coherent, loop through the query’s\n",
        "result as usual:"
      ]
    },
    {
      "cell_type": "code",
      "metadata": {
        "colab": {
          "base_uri": "https://localhost:8080/"
        },
        "id": "bJH1jSa4Ektd",
        "outputId": "5f516496-f3ab-4d8e-85d7-45929a85358b"
      },
      "source": [
        "curs.execute('select * from people')\n",
        "for row in curs.fetchall():\n",
        "  print(row)"
      ],
      "execution_count": null,
      "outputs": [
        {
          "output_type": "stream",
          "text": [
            "('Bob', 'dev', 5000)\n",
            "('Sue', 'mus', 70000)\n",
            "('Ann', 'mus', 60000)\n",
            "('Tom', 'mgr', 100000)\n",
            "('Kim', 'adm', 30000)\n",
            "('pat', 'dev', 90000)\n"
          ],
          "name": "stdout"
        }
      ]
    },
    {
      "cell_type": "markdown",
      "metadata": {
        "id": "eTz6WH7vFJLo"
      },
      "source": [
        "Tuple unpacking comes in handy in loops here, too, to pick out column values as we\n",
        "go. Here’s a simple formatted display of two of the columns’ values:"
      ]
    },
    {
      "cell_type": "code",
      "metadata": {
        "colab": {
          "base_uri": "https://localhost:8080/"
        },
        "id": "QPXxp4-qE9Y1",
        "outputId": "d3a2e253-4b00-44cf-c986-e6f7928e672b"
      },
      "source": [
        "curs.execute('select * from people')\n",
        "for (name, job, pay) in curs.fetchall():\n",
        "    print(name, ':', pay)"
      ],
      "execution_count": null,
      "outputs": [
        {
          "output_type": "stream",
          "text": [
            "Bob : 5000\n",
            "Sue : 70000\n",
            "Ann : 60000\n",
            "Tom : 100000\n",
            "Kim : 30000\n",
            "pat : 90000\n"
          ],
          "name": "stdout"
        }
      ]
    },
    {
      "cell_type": "markdown",
      "metadata": {
        "id": "Dcjiy6YWFgz4"
      },
      "source": [
        "Because the query result is a sequence, we can use Python’s powerful sequence and iteration tools to process it. For instance, to select just the name column values, we can run a more specific SQL query and get a list of tuples:"
      ]
    },
    {
      "cell_type": "code",
      "metadata": {
        "colab": {
          "base_uri": "https://localhost:8080/"
        },
        "id": "byQfJayZFbMz",
        "outputId": "745bb14f-8a6f-4670-ee20-42ccfd51112f"
      },
      "source": [
        "curs.execute('select name from people')\n",
        "names = curs.fetchall()\n",
        "names"
      ],
      "execution_count": null,
      "outputs": [
        {
          "output_type": "execute_result",
          "data": {
            "text/plain": [
              "[('Bob',), ('Sue',), ('Ann',), ('Tom',), ('Kim',), ('pat',)]"
            ]
          },
          "metadata": {
            "tags": []
          },
          "execution_count": 13
        }
      ]
    },
    {
      "cell_type": "markdown",
      "metadata": {
        "id": "ZSM47oYYF1LZ"
      },
      "source": [
        "Or we can use a Python list comprehension to pick out the fields we want—by using\n",
        "Python code, we have more control over the data’s content and format:"
      ]
    },
    {
      "cell_type": "code",
      "metadata": {
        "colab": {
          "base_uri": "https://localhost:8080/"
        },
        "id": "CuVe16oTFveF",
        "outputId": "5b7e0de8-e69f-4411-f4de-b230124effd6"
      },
      "source": [
        "curs.execute('select * from people')\n",
        "names = [rec[0] for rec in curs.fetchall()]\n",
        "names"
      ],
      "execution_count": null,
      "outputs": [
        {
          "output_type": "execute_result",
          "data": {
            "text/plain": [
              "['Bob', 'Sue', 'Ann', 'Tom', 'Kim', 'pat']"
            ]
          },
          "metadata": {
            "tags": []
          },
          "execution_count": 14
        }
      ]
    },
    {
      "cell_type": "markdown",
      "metadata": {
        "id": "yD9pqUtxGG3D"
      },
      "source": [
        "The fetchall call we’ve used so far fetches the entire query result table all at once, as a single sequence (an empty sequence comes back, if the result is empty). That’s convenient, but it may be slow enough to block the caller temporarily for large result tables or generate substantial network traffic if the server is running remotely (something could easily require a parallel thread in GUI). To avoid such a bottleneck, we can also grab just one row, or a bunch of rows, at a time with fetchone and fetchmany . The fetchone call returns the next result row or a None false value at the end of the table:"
      ]
    },
    {
      "cell_type": "code",
      "metadata": {
        "colab": {
          "base_uri": "https://localhost:8080/"
        },
        "id": "QTy_y9AxF-BK",
        "outputId": "aa605a5d-99dd-460e-f63f-237e63af9e36"
      },
      "source": [
        "curs.execute('select * from people')\n",
        "while True:\n",
        "    row = curs.fetchone()\n",
        "    if not row:\n",
        "        break\n",
        "    print(row)"
      ],
      "execution_count": null,
      "outputs": [
        {
          "output_type": "stream",
          "text": [
            "('Bob', 'dev', 5000)\n",
            "('Sue', 'mus', 70000)\n",
            "('Ann', 'mus', 60000)\n",
            "('Tom', 'mgr', 100000)\n",
            "('Kim', 'adm', 30000)\n",
            "('pat', 'dev', 90000)\n"
          ],
          "name": "stdout"
        }
      ]
    },
    {
      "cell_type": "markdown",
      "metadata": {
        "id": "l3mroHZBGeQG"
      },
      "source": [
        "The fetchmany call returns a sequence of rows from the result, but not the entire table; you can specify how many rows to grab each time with a parameter or rely on the default as given by the cursor’s arraysize attribute. Each call gets at most that many more rows from the result or an empty sequence at the end of the table:"
      ]
    },
    {
      "cell_type": "code",
      "metadata": {
        "colab": {
          "base_uri": "https://localhost:8080/"
        },
        "id": "TxpS7Lm2GZ66",
        "outputId": "94e87c7f-5873-435e-832c-c4d979e6abcb"
      },
      "source": [
        "curs.execute('select * from people')\n",
        "while True:\n",
        "    rows = curs.fetchmany() # size=N optional argument\n",
        "    if not rows: break\n",
        "    for row in rows:\n",
        "        print(row)"
      ],
      "execution_count": null,
      "outputs": [
        {
          "output_type": "stream",
          "text": [
            "('Bob', 'dev', 5000)\n",
            "('Sue', 'mus', 70000)\n",
            "('Ann', 'mus', 60000)\n",
            "('Tom', 'mgr', 100000)\n",
            "('Kim', 'adm', 30000)\n",
            "('pat', 'dev', 90000)\n"
          ],
          "name": "stdout"
        }
      ]
    },
    {
      "cell_type": "markdown",
      "metadata": {
        "id": "cU3n4wkVG7nA"
      },
      "source": [
        "For this module at least, the result table is exhausted after a fetchone or fetchmany\n",
        "returns a False value. The DB API says that fetchall returns “all (remaining) rows,”\n",
        "so you generally need to call execute again to regenerate results before fetching\n",
        "new data:"
      ]
    },
    {
      "cell_type": "code",
      "metadata": {
        "id": "4wZSdMbYGxJ5"
      },
      "source": [
        "curs.fetchone()"
      ],
      "execution_count": null,
      "outputs": []
    },
    {
      "cell_type": "code",
      "metadata": {
        "colab": {
          "base_uri": "https://localhost:8080/"
        },
        "id": "FdB0UzdlHCCk",
        "outputId": "2efd7bb0-97b1-486e-a8b7-80ad6e30e893"
      },
      "source": [
        "curs.fetchmany()"
      ],
      "execution_count": null,
      "outputs": [
        {
          "output_type": "execute_result",
          "data": {
            "text/plain": [
              "[]"
            ]
          },
          "metadata": {
            "tags": []
          },
          "execution_count": 18
        }
      ]
    },
    {
      "cell_type": "code",
      "metadata": {
        "colab": {
          "base_uri": "https://localhost:8080/"
        },
        "id": "VatnkCqNHEYQ",
        "outputId": "ee24f916-4751-49ad-a985-01240b498ca6"
      },
      "source": [
        "curs.fetchall()"
      ],
      "execution_count": null,
      "outputs": [
        {
          "output_type": "execute_result",
          "data": {
            "text/plain": [
              "[]"
            ]
          },
          "metadata": {
            "tags": []
          },
          "execution_count": 19
        }
      ]
    },
    {
      "cell_type": "markdown",
      "metadata": {
        "id": "t-0v0eNbHQ3g"
      },
      "source": [
        "Naturally, we can do more than fetch an entire table; the full power of the SQL language is at your disposal in Python:"
      ]
    },
    {
      "cell_type": "code",
      "metadata": {
        "colab": {
          "base_uri": "https://localhost:8080/"
        },
        "id": "UsKc_GNKHMF5",
        "outputId": "d49aba60-e29b-4804-c789-a523215c9d1c"
      },
      "source": [
        "curs.execute('select name, job from people where pay > 60000')\n",
        "curs.fetchall()"
      ],
      "execution_count": null,
      "outputs": [
        {
          "output_type": "execute_result",
          "data": {
            "text/plain": [
              "[('Sue', 'mus'), ('Tom', 'mgr'), ('pat', 'dev')]"
            ]
          },
          "metadata": {
            "tags": []
          },
          "execution_count": 20
        }
      ]
    },
    {
      "cell_type": "markdown",
      "metadata": {
        "id": "KkwSgba5HcmM"
      },
      "source": [
        "The last query fetches name and job fields for people who earn more than $60,000. The\n",
        "next is similar, but passes in the selection value as a parameter and orders the result\n",
        "table:"
      ]
    },
    {
      "cell_type": "code",
      "metadata": {
        "colab": {
          "base_uri": "https://localhost:8080/"
        },
        "id": "xTx-54veHV2O",
        "outputId": "7e339bb0-b9cb-435c-cfea-5ab419d2ff13"
      },
      "source": [
        "query = 'select name, job from people where pay >= ? order by name'\n",
        "curs.execute(query, [60000])\n",
        "for row in curs.fetchall():\n",
        "    print(row)"
      ],
      "execution_count": null,
      "outputs": [
        {
          "output_type": "stream",
          "text": [
            "('Ann', 'mus')\n",
            "('Sue', 'mus')\n",
            "('Tom', 'mgr')\n",
            "('pat', 'dev')\n"
          ],
          "name": "stdout"
        }
      ]
    },
    {
      "cell_type": "markdown",
      "metadata": {
        "id": "h5QwckGrHwwp"
      },
      "source": [
        "# **Running updates**\n",
        "\n",
        "Cursor objects also are used to submit SQL update statements to the database server updates, deletes, and inserts. We’ve already seen the insert statement at work. Let’s start a new session to perform some other kinds of updates; we begin with the same data we had in the prior session:\n",
        "\n",
        "\n",
        "quede en la pagina 1338"
      ]
    },
    {
      "cell_type": "code",
      "metadata": {
        "id": "rWr2UrqPHn23"
      },
      "source": [],
      "execution_count": null,
      "outputs": []
    }
  ]
}